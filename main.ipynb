{
 "cells": [
  {
   "cell_type": "code",
   "execution_count": 14,
   "id": "999516d7",
   "metadata": {},
   "outputs": [],
   "source": [
    "with open(\"Data/input.txt\", \"r\") as f:\n",
    "    lines = f.read()"
   ]
  },
  {
   "cell_type": "code",
   "execution_count": 15,
   "id": "80b80d4a",
   "metadata": {},
   "outputs": [
    {
     "data": {
      "text/plain": [
       "1115394"
      ]
     },
     "execution_count": 15,
     "metadata": {},
     "output_type": "execute_result"
    }
   ],
   "source": [
    "len(lines)"
   ]
  },
  {
   "cell_type": "code",
   "execution_count": 17,
   "id": "9f35a0fc",
   "metadata": {},
   "outputs": [
    {
     "name": "stdout",
     "output_type": "stream",
     "text": [
      "First Citi\n"
     ]
    }
   ],
   "source": [
    "print(lines[:10])"
   ]
  },
  {
   "cell_type": "code",
   "execution_count": 25,
   "id": "bfea2827",
   "metadata": {},
   "outputs": [
    {
     "name": "stdout",
     "output_type": "stream",
     "text": [
      "\n",
      " !$&',-.3:;?ABCDEFGHIJKLMNOPQRSTUVWXYZabcdefghijklmnopqrstuvwxyz\n"
     ]
    },
    {
     "data": {
      "text/plain": [
       "65"
      ]
     },
     "execution_count": 25,
     "metadata": {},
     "output_type": "execute_result"
    }
   ],
   "source": [
    "chars = sorted(list(set(lines)))\n",
    "size = len(chars)\n",
    "print(''.join(chars))\n",
    "size"
   ]
  },
  {
   "cell_type": "code",
   "execution_count": 66,
   "id": "cd3762dd",
   "metadata": {},
   "outputs": [
    {
     "name": "stdout",
     "output_type": "stream",
     "text": [
      "[46, 47, 47, 1, 58, 46, 43, 56, 43]\n",
      "hii there\n"
     ]
    }
   ],
   "source": [
    "class Coding:\n",
    "    def encode(s, chars = chars):\n",
    "        code = []\n",
    "        for char in s:\n",
    "            for char1 in chars:\n",
    "                if char == char1:\n",
    "                    code.append(chars.index(char1))\n",
    "        return (code)\n",
    "            \n",
    "        \n",
    "    def decode(s_coded, chars = chars):\n",
    "        decode = []\n",
    "        for char in s_coded:\n",
    "            for char1 in chars:\n",
    "                if char == chars.index(char1):\n",
    "                    decode.append(char1)\n",
    "        return (''.join(decode))\n",
    "\n",
    "print(Coding.encode(\"hii there\"))\n",
    "print(Coding.decode(Coding.encode(\"hii there\")))"
   ]
  },
  {
   "cell_type": "code",
   "execution_count": 67,
   "id": "eec85e72",
   "metadata": {},
   "outputs": [
    {
     "name": "stdout",
     "output_type": "stream",
     "text": [
      "[18, 47, 56, 57, 58, 1, 15, 47, 58, 47]\n"
     ]
    }
   ],
   "source": [
    "text = Coding.encode(lines)\n",
    "print(text[:10])"
   ]
  },
  {
   "cell_type": "code",
   "execution_count": 68,
   "id": "fc522954",
   "metadata": {},
   "outputs": [
    {
     "name": "stdout",
     "output_type": "stream",
     "text": [
      "torch.Size([1115394]) torch.int64\n",
      "tensor([18, 47, 56, 57, 58,  1, 15, 47, 58, 47])\n"
     ]
    }
   ],
   "source": [
    "import torch\n",
    "data = torch.tensor(Coding.encode(lines), dtype = torch.long)\n",
    "print(data.shape, data.dtype)\n",
    "print(data[:10])"
   ]
  },
  {
   "cell_type": "code",
   "execution_count": 70,
   "id": "93a1a2e3",
   "metadata": {},
   "outputs": [
    {
     "name": "stdout",
     "output_type": "stream",
     "text": [
      "tensor([18, 47, 56, 57, 58,  1, 15, 47, 58, 47, 64, 43, 52, 10,  0, 14, 43, 44,\n",
      "        53, 56, 43,  1, 61, 43,  1, 54, 56, 53, 41, 43, 43, 42,  1, 39, 52, 63,\n",
      "         1, 44, 59, 56, 58, 46, 43, 56,  6,  1, 46, 43, 39, 56,  1, 51, 43,  1,\n",
      "        57, 54, 43, 39, 49,  8,  0,  0, 13, 50, 50, 10,  0, 31, 54, 43, 39, 49,\n",
      "         6,  1, 57, 54, 43, 39, 49,  8,  0,  0, 18, 47, 56, 57, 58,  1, 15, 47,\n",
      "        58, 47, 64, 43, 52, 10,  0, 37, 53, 59])\n"
     ]
    }
   ],
   "source": [
    "print(data[:100])"
   ]
  },
  {
   "cell_type": "code",
   "execution_count": null,
   "id": "ca2ef401",
   "metadata": {},
   "outputs": [],
   "source": []
  }
 ],
 "metadata": {
  "kernelspec": {
   "display_name": "Python 3",
   "language": "python",
   "name": "python3"
  },
  "language_info": {
   "codemirror_mode": {
    "name": "ipython",
    "version": 3
   },
   "file_extension": ".py",
   "mimetype": "text/x-python",
   "name": "python",
   "nbconvert_exporter": "python",
   "pygments_lexer": "ipython3",
   "version": "3.11.4"
  }
 },
 "nbformat": 4,
 "nbformat_minor": 5
}
