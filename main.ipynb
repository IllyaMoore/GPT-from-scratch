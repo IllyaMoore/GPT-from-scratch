{
 "cells": [
  {
   "cell_type": "code",
   "execution_count": 14,
   "id": "999516d7",
   "metadata": {},
   "outputs": [],
   "source": [
    "with open(\"Data/input.txt\", \"r\") as f:\n",
    "    lines = f.read()"
   ]
  },
  {
   "cell_type": "code",
   "execution_count": 15,
   "id": "80b80d4a",
   "metadata": {},
   "outputs": [
    {
     "data": {
      "text/plain": [
       "1115394"
      ]
     },
     "execution_count": 15,
     "metadata": {},
     "output_type": "execute_result"
    }
   ],
   "source": [
    "len(lines)"
   ]
  },
  {
   "cell_type": "code",
   "execution_count": 17,
   "id": "9f35a0fc",
   "metadata": {},
   "outputs": [
    {
     "name": "stdout",
     "output_type": "stream",
     "text": [
      "First Citi\n"
     ]
    }
   ],
   "source": [
    "print(lines[:10])"
   ]
  },
  {
   "cell_type": "code",
   "execution_count": 25,
   "id": "bfea2827",
   "metadata": {},
   "outputs": [
    {
     "name": "stdout",
     "output_type": "stream",
     "text": [
      "\n",
      " !$&',-.3:;?ABCDEFGHIJKLMNOPQRSTUVWXYZabcdefghijklmnopqrstuvwxyz\n"
     ]
    },
    {
     "data": {
      "text/plain": [
       "65"
      ]
     },
     "execution_count": 25,
     "metadata": {},
     "output_type": "execute_result"
    }
   ],
   "source": [
    "chars = sorted(list(set(lines)))\n",
    "size = len(chars)\n",
    "print(''.join(chars))\n",
    "size"
   ]
  },
  {
   "cell_type": "code",
   "execution_count": 66,
   "id": "cd3762dd",
   "metadata": {},
   "outputs": [
    {
     "name": "stdout",
     "output_type": "stream",
     "text": [
      "[46, 47, 47, 1, 58, 46, 43, 56, 43]\n",
      "hii there\n"
     ]
    }
   ],
   "source": [
    "class Coding:\n",
    "    def encode(s, chars = chars):\n",
    "        code = []\n",
    "        for char in s:\n",
    "            for char1 in chars:\n",
    "                if char == char1:\n",
    "                    code.append(chars.index(char1))\n",
    "        return (code)\n",
    "            \n",
    "        \n",
    "    def decode(s_coded, chars = chars):\n",
    "        decode = []\n",
    "        for char in s_coded:\n",
    "            for char1 in chars:\n",
    "                if char == chars.index(char1):\n",
    "                    decode.append(char1)\n",
    "        return (''.join(decode))\n",
    "\n",
    "print(Coding.encode(\"hii there\"))\n",
    "print(Coding.decode(Coding.encode(\"hii there\")))"
   ]
  },
  {
   "cell_type": "code",
   "execution_count": 67,
   "id": "eec85e72",
   "metadata": {},
   "outputs": [
    {
     "name": "stdout",
     "output_type": "stream",
     "text": [
      "[18, 47, 56, 57, 58, 1, 15, 47, 58, 47]\n"
     ]
    }
   ],
   "source": [
    "text = Coding.encode(lines)\n",
    "print(text[:10])"
   ]
  },
  {
   "cell_type": "code",
   "execution_count": 68,
   "id": "fc522954",
   "metadata": {},
   "outputs": [
    {
     "name": "stdout",
     "output_type": "stream",
     "text": [
      "torch.Size([1115394]) torch.int64\n",
      "tensor([18, 47, 56, 57, 58,  1, 15, 47, 58, 47])\n"
     ]
    }
   ],
   "source": [
    "import torch\n",
    "data = torch.tensor(Coding.encode(lines), dtype = torch.long)\n",
    "print(data.shape, data.dtype)\n",
    "print(data[:10])"
   ]
  },
  {
   "cell_type": "code",
   "execution_count": 70,
   "id": "93a1a2e3",
   "metadata": {},
   "outputs": [
    {
     "name": "stdout",
     "output_type": "stream",
     "text": [
      "tensor([18, 47, 56, 57, 58,  1, 15, 47, 58, 47, 64, 43, 52, 10,  0, 14, 43, 44,\n",
      "        53, 56, 43,  1, 61, 43,  1, 54, 56, 53, 41, 43, 43, 42,  1, 39, 52, 63,\n",
      "         1, 44, 59, 56, 58, 46, 43, 56,  6,  1, 46, 43, 39, 56,  1, 51, 43,  1,\n",
      "        57, 54, 43, 39, 49,  8,  0,  0, 13, 50, 50, 10,  0, 31, 54, 43, 39, 49,\n",
      "         6,  1, 57, 54, 43, 39, 49,  8,  0,  0, 18, 47, 56, 57, 58,  1, 15, 47,\n",
      "        58, 47, 64, 43, 52, 10,  0, 37, 53, 59])\n"
     ]
    }
   ],
   "source": [
    "print(data[:100])"
   ]
  },
  {
   "cell_type": "code",
   "execution_count": 72,
   "id": "ca2ef401",
   "metadata": {},
   "outputs": [
    {
     "name": "stdout",
     "output_type": "stream",
     "text": [
      "train: torch.Size([1003854]) val: torch.Size([111540])\n"
     ]
    }
   ],
   "source": [
    "n = int(len(data) * 0.9)\n",
    "train = data[:n]\n",
    "val = data[n:]\n",
    "print('train:', train.shape, 'val:', val.shape)"
   ]
  },
  {
   "cell_type": "code",
   "execution_count": 85,
   "id": "5fc79589",
   "metadata": {},
   "outputs": [
    {
     "data": {
      "text/plain": [
       "tensor([18, 47, 56, 57, 58,  1, 15, 47, 58])"
      ]
     },
     "execution_count": 85,
     "metadata": {},
     "output_type": "execute_result"
    }
   ],
   "source": [
    "block_size = 8\n",
    "train[:block_size+1]"
   ]
  },
  {
   "cell_type": "code",
   "execution_count": 86,
   "id": "d3b65f6d",
   "metadata": {},
   "outputs": [
    {
     "name": "stdout",
     "output_type": "stream",
     "text": [
      "when input is tensor([18]), the target is 47\n",
      "when input is tensor([18, 47]), the target is 56\n",
      "when input is tensor([18, 47, 56]), the target is 57\n",
      "when input is tensor([18, 47, 56, 57]), the target is 58\n",
      "when input is tensor([18, 47, 56, 57, 58]), the target is 1\n",
      "when input is tensor([18, 47, 56, 57, 58,  1]), the target is 15\n",
      "when input is tensor([18, 47, 56, 57, 58,  1, 15]), the target is 47\n",
      "when input is tensor([18, 47, 56, 57, 58,  1, 15, 47]), the target is 58\n"
     ]
    }
   ],
   "source": [
    "x = train[:block_size]\n",
    "y = train[1:block_size+1]\n",
    "for t in range(block_size):\n",
    "    context = x[:t+1]\n",
    "    target = y[t]\n",
    "    print(f\"when input is {context}, the target is {target}\")"
   ]
  },
  {
   "cell_type": "code",
   "execution_count": 112,
   "id": "549efe23",
   "metadata": {},
   "outputs": [
    {
     "name": "stdout",
     "output_type": "stream",
     "text": [
      "data: \n",
      " torch.Size([4, 8]) torch.int64 \n",
      " tensor([[24, 43, 58,  5, 57,  1, 46, 43],\n",
      "        [44, 53, 56,  1, 58, 46, 39, 58],\n",
      "        [52, 58,  1, 58, 46, 39, 58,  1],\n",
      "        [25, 17, 27, 10,  0, 21,  1, 54]]) \n",
      " torch.Size([4, 8]) torch.int64 \n",
      " tensor([[43, 58,  5, 57,  1, 46, 43, 39],\n",
      "        [53, 56,  1, 58, 46, 39, 58,  1],\n",
      "        [58,  1, 58, 46, 39, 58,  1, 46],\n",
      "        [17, 27, 10,  0, 21,  1, 54, 39]]) \n",
      "\n",
      "when input is tensor([24]), the target is 43\n",
      "when input is tensor([24, 43]), the target is 58\n",
      "when input is tensor([24, 43, 58]), the target is 5\n",
      "when input is tensor([24, 43, 58,  5]), the target is 57\n",
      "when input is tensor([24, 43, 58,  5, 57]), the target is 1\n",
      "when input is tensor([24, 43, 58,  5, 57,  1]), the target is 46\n",
      "when input is tensor([24, 43, 58,  5, 57,  1, 46]), the target is 43\n",
      "when input is tensor([24, 43, 58,  5, 57,  1, 46, 43]), the target is 39\n",
      "when input is tensor([44]), the target is 53\n",
      "when input is tensor([44, 53]), the target is 56\n",
      "when input is tensor([44, 53, 56]), the target is 1\n",
      "when input is tensor([44, 53, 56,  1]), the target is 58\n",
      "when input is tensor([44, 53, 56,  1, 58]), the target is 46\n",
      "when input is tensor([44, 53, 56,  1, 58, 46]), the target is 39\n",
      "when input is tensor([44, 53, 56,  1, 58, 46, 39]), the target is 58\n",
      "when input is tensor([44, 53, 56,  1, 58, 46, 39, 58]), the target is 1\n",
      "when input is tensor([52]), the target is 58\n",
      "when input is tensor([52, 58]), the target is 1\n",
      "when input is tensor([52, 58,  1]), the target is 58\n",
      "when input is tensor([52, 58,  1, 58]), the target is 46\n",
      "when input is tensor([52, 58,  1, 58, 46]), the target is 39\n",
      "when input is tensor([52, 58,  1, 58, 46, 39]), the target is 58\n",
      "when input is tensor([52, 58,  1, 58, 46, 39, 58]), the target is 1\n",
      "when input is tensor([52, 58,  1, 58, 46, 39, 58,  1]), the target is 46\n",
      "when input is tensor([25]), the target is 17\n",
      "when input is tensor([25, 17]), the target is 27\n",
      "when input is tensor([25, 17, 27]), the target is 10\n",
      "when input is tensor([25, 17, 27, 10]), the target is 0\n",
      "when input is tensor([25, 17, 27, 10,  0]), the target is 21\n",
      "when input is tensor([25, 17, 27, 10,  0, 21]), the target is 1\n",
      "when input is tensor([25, 17, 27, 10,  0, 21,  1]), the target is 54\n",
      "when input is tensor([25, 17, 27, 10,  0, 21,  1, 54]), the target is 39\n"
     ]
    }
   ],
   "source": [
    "torch.manual_seed(1337)\n",
    "block_size = 8\n",
    "batch_size = 4\n",
    "\n",
    "def get_batch(split):\n",
    "    data = train if split == 'train' else val\n",
    "    ix = torch.randint(len(data) - block_size, (batch_size,))\n",
    "    x = torch.stack([data[i:i+block_size] for i in ix])\n",
    "    y = torch.stack([data[i+1:i+block_size+1] for i in ix])\n",
    "    return x, y\n",
    "\n",
    "xb, yb = get_batch('train')\n",
    "print(\"data:\", '\\n', xb.shape, xb.dtype, '\\n', xb, '\\n', yb.shape, yb.dtype, '\\n', yb, '\\n')\n",
    "\n",
    "for b in range(batch_size):\n",
    "    for t in range(block_size):\n",
    "        context = xb[b, :t+1]\n",
    "        target = yb[b, t]\n",
    "        print(f\"when input is {context}, the target is {target}\")\n",
    "\n"
   ]
  },
  {
   "cell_type": "code",
   "execution_count": null,
   "id": "9327fbca",
   "metadata": {},
   "outputs": [],
   "source": []
  }
 ],
 "metadata": {
  "kernelspec": {
   "display_name": "Python 3",
   "language": "python",
   "name": "python3"
  },
  "language_info": {
   "codemirror_mode": {
    "name": "ipython",
    "version": 3
   },
   "file_extension": ".py",
   "mimetype": "text/x-python",
   "name": "python",
   "nbconvert_exporter": "python",
   "pygments_lexer": "ipython3",
   "version": "3.11.4"
  }
 },
 "nbformat": 4,
 "nbformat_minor": 5
}
